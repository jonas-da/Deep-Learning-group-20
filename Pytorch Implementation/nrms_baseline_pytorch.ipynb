{
  "cells": [
    {
      "cell_type": "markdown",
      "metadata": {
        "id": "QkqQs_Fu6ckF"
      },
      "source": [
        "## NRMS Model with Title Word Embedding\n",
        "### Course: *02456 - Deep Learning*  \n",
        "**Technical University of Denmark (DTU)**  \n",
        "\n",
        "---\n",
        "\n",
        "### 📜 **Context**  \n",
        "- The below script has been created in relation to the course 02456 - Deep Learning at the Technical University of Denmark. We were tasked with building a news recommender model that could the Danish media Extra Bladet predict user preferences for news articles. We implemented our own pytorch model, that is inspired from the article [Neural News Recommendation with Multi-Head Self-Attention](https://dl.acm.org/doi/10.1145/3640457.3687164)\n",
        "---\n",
        "\n",
        "### 📝 **Differences from the Original Paper**  \n",
        "- **Original Implementation**: The paper embeds words from the **title** of each article.  \n",
        "- **Our Implementation**: This model is a replication of the original model using words in the title to represent each article. The model has been implemented in Pytorch. We use 20 attention heads with a dimension of 20, whereas the paper uses 16 x 16. We have also implemented a more advanced pytorch model that uses a full article embedding rather than just the title (see the other notebook).\n",
        "---\n",
        "\n",
        "### 🛠️ **What Does This Script Do?**  \n",
        "\n",
        "1. **Model Creation**:  \n",
        "   - Implements a PyTorch version of the **NRMS model** based on **multi-head self-attention**.\n",
        "\n",
        "2. **Training**:  \n",
        "   - Trains the model using training data from **Extra Bladet's \"2024 RecSys Challenge\"**.\n",
        "\n",
        "3. **Evaluation**:  \n",
        "   - Scores the model on the **full test set**, which contains more than **13,000,000 user visits** to the Extra Bladet website.\n",
        "\n",
        "---\n",
        "\n",
        "### 💻 **Hardware Setup**  \n",
        "\n",
        "- During our project, we have been running this notebook on DTU's HPC and on Google Colab Pro on the T4 GPU with 50GB of system RAM.\n",
        "---\n",
        "### 🔗 **References**  \n",
        "\n",
        "1. Article: [Neural News Recommendation with Multi-Head Self-Attention](https://dl.acm.org/doi/10.1145/3640457.3687164)  \n",
        "2. Dataset: [Extra Bladet's \"2024 RecSys Challenge\"](https://recsys.eb.dk/)"
      ]
    },
    {
      "cell_type": "markdown",
      "metadata": {
        "id": "JtFaMKtD7Ik6"
      },
      "source": [
        "# Installing Correct Package Versions\n",
        "Some of the legacy code we were given by Johannes, requires packages not pre-installed on colab or a specific package version. We download these below."
      ]
    },
    {
      "cell_type": "code",
      "execution_count": null,
      "metadata": {
        "colab": {
          "base_uri": "https://localhost:8080/"
        },
        "id": "O6nCa6nGpSlG",
        "outputId": "71917717-fece-4ae8-e232-f7946c105db0"
      },
      "outputs": [
        {
          "name": "stdout",
          "output_type": "stream",
          "text": [
            "Requirement already satisfied: polars==0.20.8 in /usr/local/lib/python3.10/dist-packages (0.20.8)\n",
            "Requirement already satisfied: torchmetrics in /usr/local/lib/python3.10/dist-packages (1.6.0)\n",
            "Requirement already satisfied: numpy>1.20.0 in /usr/local/lib/python3.10/dist-packages (from torchmetrics) (1.26.4)\n",
            "Requirement already satisfied: packaging>17.1 in /usr/local/lib/python3.10/dist-packages (from torchmetrics) (24.2)\n",
            "Requirement already satisfied: torch>=2.0.0 in /usr/local/lib/python3.10/dist-packages (from torchmetrics) (2.5.1+cu121)\n",
            "Requirement already satisfied: lightning-utilities>=0.8.0 in /usr/local/lib/python3.10/dist-packages (from torchmetrics) (0.11.9)\n",
            "Requirement already satisfied: setuptools in /usr/local/lib/python3.10/dist-packages (from lightning-utilities>=0.8.0->torchmetrics) (75.1.0)\n",
            "Requirement already satisfied: typing-extensions in /usr/local/lib/python3.10/dist-packages (from lightning-utilities>=0.8.0->torchmetrics) (4.12.2)\n",
            "Requirement already satisfied: filelock in /usr/local/lib/python3.10/dist-packages (from torch>=2.0.0->torchmetrics) (3.16.1)\n",
            "Requirement already satisfied: networkx in /usr/local/lib/python3.10/dist-packages (from torch>=2.0.0->torchmetrics) (3.4.2)\n",
            "Requirement already satisfied: jinja2 in /usr/local/lib/python3.10/dist-packages (from torch>=2.0.0->torchmetrics) (3.1.4)\n",
            "Requirement already satisfied: fsspec in /usr/local/lib/python3.10/dist-packages (from torch>=2.0.0->torchmetrics) (2024.10.0)\n",
            "Requirement already satisfied: sympy==1.13.1 in /usr/local/lib/python3.10/dist-packages (from torch>=2.0.0->torchmetrics) (1.13.1)\n",
            "Requirement already satisfied: mpmath<1.4,>=1.1.0 in /usr/local/lib/python3.10/dist-packages (from sympy==1.13.1->torch>=2.0.0->torchmetrics) (1.3.0)\n",
            "Requirement already satisfied: MarkupSafe>=2.0 in /usr/local/lib/python3.10/dist-packages (from jinja2->torch>=2.0.0->torchmetrics) (3.0.2)\n"
          ]
        }
      ],
      "source": [
        "!pip install polars==0.20.8\n",
        "!pip install torchmetrics"
      ]
    },
    {
      "cell_type": "markdown",
      "metadata": {
        "id": "ZHTBSNqf7LF_"
      },
      "source": [
        "# Setting the Correct File Paths\n",
        "Below we set the file paths for where we store our data and python files. If you want to run it yourself, please change these paths."
      ]
    },
    {
      "cell_type": "code",
      "execution_count": null,
      "metadata": {
        "id": "v6gzR8BXpV9D"
      },
      "outputs": [],
      "source": [
        "# Change these to your paths (These are setup to run on google colab)\n",
        "drive_path = '/content/drive/'\n",
        "python_files_path = '/content/drive/MyDrive/DeepLearningProject'\n",
        "article_embeddings_path = '/content/drive/MyDrive/DeepLearningProject/Data/ebnerd_small/articles.parquet'\n",
        "user_impressions_path = '/content/drive/MyDrive/DeepLearningProject/Data'"
      ]
    },
    {
      "cell_type": "markdown",
      "metadata": {
        "id": "ulc4hlsa7Od9"
      },
      "source": [
        "### 💻 Setting Up the Notebook for Google Colab  \n",
        "\n",
        "To ensure compatibility and seamless execution, the notebook is configured to run on **Google Colab**. This setup includes installing necessary dependencies, mounting Google Drive for accessing datasets and saving results."
      ]
    },
    {
      "cell_type": "code",
      "execution_count": null,
      "metadata": {
        "colab": {
          "base_uri": "https://localhost:8080/"
        },
        "id": "F_M6lzmlpXw2",
        "outputId": "b068e0da-bb27-4a02-f42c-ac96dd60339a"
      },
      "outputs": [
        {
          "name": "stdout",
          "output_type": "stream",
          "text": [
            "Drive already mounted at /content/drive/; to attempt to forcibly remount, call drive.mount(\"/content/drive/\", force_remount=True).\n"
          ]
        }
      ],
      "source": [
        "from google.colab import drive\n",
        "import sys\n",
        "import torch\n",
        "\n",
        "# Mount Google Drive\n",
        "drive.mount(drive_path)\n",
        "\n",
        "# Adjust path to where we store our files\n",
        "sys.path.append(python_files_path)\n",
        "\n",
        "# Set the device to CUDA if a GPU is available, otherwise use CPU\n",
        "device = torch.device(\"cuda\" if torch.cuda.is_available() else \"cpu\")"
      ]
    },
    {
      "cell_type": "markdown",
      "metadata": {
        "id": "2jfgOFZ67Q4r"
      },
      "source": [
        "# Importing Needed Packages and Our Own Implementation of the Model and Data Loaders"
      ]
    },
    {
      "cell_type": "code",
      "execution_count": null,
      "metadata": {
        "id": "MYtsnRSxCvLe"
      },
      "outputs": [],
      "source": [
        "from transformers import AutoTokenizer, AutoModel\n",
        "from pathlib import Path\n",
        "import matplotlib.pyplot as plt\n",
        "import datetime as dt\n",
        "import polars as pl\n",
        "import numpy as np\n",
        "import shutil\n",
        "import gc\n",
        "import torch\n",
        "import torch.nn as nn\n",
        "import torch.optim as optim\n",
        "from torch.utils.data import DataLoader\n",
        "from torchmetrics.classification import MulticlassAUROC\n",
        "from torch.optim.lr_scheduler import ReduceLROnPlateau\n",
        "\n",
        "from ebrec.utils._constants import *\n",
        "\n",
        "from ebrec.utils._behaviors import (\n",
        "    create_binary_labels_column,\n",
        "    sampling_strategy_wu2019,\n",
        "    add_prediction_scores,\n",
        "    truncate_history,\n",
        "    ebnerd_from_path,\n",
        ")\n",
        "\n",
        "from ebrec.evaluation import MetricEvaluator, AucScore, NdcgScore, MrrScore\n",
        "from ebrec.utils._articles import convert_text2encoding_with_transformers\n",
        "from ebrec.utils._polars import concat_str_columns, slice_join_dataframes, split_df_chunks, concat_str_columns\n",
        "from ebrec.utils._articles import create_article_id_to_value_mapping\n",
        "from ebrec.utils._nlp import get_transformers_word_embeddings\n",
        "from ebrec.utils._python import write_submission_file, rank_predictions_by_score, write_json_file\n",
        "\n",
        "from ebrec.models.newsrec.nrms_baseline_pytorch import NewsEncoder, UserEncoder, NRMS_baseline_pytorch, ScorerModel\n",
        "from ebrec.models.newsrec.dataloader_pytorch import NRMSDataLoaderPretransform, nrms_custom_collate_fn\n",
        "from ebrec.models.newsrec.model_config import hparams_nrms"
      ]
    },
    {
      "cell_type": "markdown",
      "metadata": {
        "id": "mP9h8oIl7S0S"
      },
      "source": [
        "# Load Prespecified Paramaters for Our Model and the Training Procedure"
      ]
    },
    {
      "cell_type": "code",
      "execution_count": null,
      "metadata": {
        "id": "qs1n-45Dp1Kg"
      },
      "outputs": [],
      "source": [
        "DATASPLIT = hparams_nrms.data_split\n",
        "HISTORY_SIZE = hparams_nrms.history_size\n",
        "MAX_TITLE_LENGTH = hparams_nrms.title_size\n",
        "TRAIN_FRACTION = hparams_nrms.train_fraction\n",
        "FRACTION_TEST = hparams_nrms.test_fraction\n",
        "SEED = hparams_nrms.seed\n",
        "NPRATIO = hparams_nrms.np_ratio\n",
        "TRAIN_BATCH_SIZE = hparams_nrms.train_batch_size\n",
        "TEST_BATCH_SIZE = hparams_nrms.test_batch_size\n",
        "NUM_CLASSES = hparams_nrms.num_classes\n",
        "NUM_EPOCH = hparams_nrms.num_epoch\n",
        "PATIENCE = hparams_nrms.patience_counter\n",
        "VAL_INTERVAL = hparams_nrms.val_interval"
      ]
    },
    {
      "cell_type": "markdown",
      "metadata": {
        "id": "qHij3pDd7Uuu"
      },
      "source": [
        "# Load the Articles"
      ]
    },
    {
      "cell_type": "code",
      "execution_count": null,
      "metadata": {
        "id": "XKfkY3iN470V"
      },
      "outputs": [],
      "source": [
        "# Set path for where the articles are stored and load them into a dataframe\n",
        "df_articles = pl.read_parquet(Path(article_embeddings_path).expanduser())\n",
        "\n",
        "# Prespecify what columns from the dataset we are interested in\n",
        "COLUMNS = [\n",
        "    DEFAULT_IMPRESSION_TIMESTAMP_COL,\n",
        "    DEFAULT_HISTORY_ARTICLE_ID_COL,\n",
        "    DEFAULT_INVIEW_ARTICLES_COL,\n",
        "    DEFAULT_CLICKED_ARTICLES_COL,\n",
        "    DEFAULT_IMPRESSION_ID_COL,\n",
        "    DEFAULT_USER_COL,\n",
        "]"
      ]
    },
    {
      "cell_type": "markdown",
      "metadata": {
        "id": "8Bz24CI77aUC"
      },
      "source": [
        "# Load the User-Impressions and Create Our Training and Validation Dataset"
      ]
    },
    {
      "cell_type": "code",
      "execution_count": null,
      "metadata": {
        "id": "sDil70YWtn8O"
      },
      "outputs": [],
      "source": [
        "# Expand the user-impressions path to an absolute path\n",
        "PATH = Path(user_impressions_path).expanduser()\n",
        "\n",
        "# Create a single DataFrame `df` by concatenating processed training and validation datasets\n",
        "df = (\n",
        "    pl.concat(\n",
        "        [\n",
        "            # Load and process the training data using a custom function `ebnerd_from_path`\n",
        "            ebnerd_from_path(\n",
        "                PATH.joinpath(DATASPLIT, \"train\"),  # Path to training data\n",
        "                history_size=HISTORY_SIZE,         # Number of historical interactions to consider\n",
        "                padding=0,                         # Padding value for shorter histories\n",
        "            ),\n",
        "            # Load and process the validation data using the same function\n",
        "            ebnerd_from_path(\n",
        "                PATH.joinpath(DATASPLIT, \"validation\"),  # Path to validation data\n",
        "                history_size=HISTORY_SIZE,              # Number of historical interactions to consider\n",
        "                padding=0,                              # Padding value for shorter histories\n",
        "            ),\n",
        "        ]\n",
        "    )\n",
        "    # Randomly sample a fraction of the combined data for training, with a fixed seed for reproducibility\n",
        "    .sample(fraction=TRAIN_FRACTION, shuffle=True, seed=SEED)\n",
        "    # Select specific columns of interest for the model input\n",
        "    .select(COLUMNS)\n",
        "    # Apply the sampling strategy (e.g., negative sampling) to create balanced data\n",
        "    .pipe(\n",
        "        sampling_strategy_wu2019,  # Sampling strategy based on Wu et al. (2019)\n",
        "        npratio=NPRATIO,          # Ratio of negative to positive samples\n",
        "        shuffle=True,             # Shuffle the data after sampling\n",
        "        with_replacement=True,    # Allow sampling with replacement\n",
        "        seed=SEED,                # Seed for reproducibility\n",
        "    )\n",
        "    # Add a binary labels column (e.g., click or no-click)\n",
        "    .pipe(create_binary_labels_column)\n",
        ")\n",
        "\n",
        "# Define the last day in the dataset as the validation cutoff\n",
        "last_dt = df[DEFAULT_IMPRESSION_TIMESTAMP_COL].dt.date().max() - dt.timedelta(days=1)\n",
        "\n",
        "# Split the data into training and validation sets based on the cutoff\n",
        "df_train = df.filter(pl.col(DEFAULT_IMPRESSION_TIMESTAMP_COL).dt.date() < last_dt)  # Training set\n",
        "df_validation = df.filter(pl.col(DEFAULT_IMPRESSION_TIMESTAMP_COL).dt.date() >= last_dt)  # Validation set\n"
      ]
    },
    {
      "cell_type": "markdown",
      "metadata": {
        "id": "2p5XWjzAqzOP"
      },
      "source": [
        "## Init model using HuggingFace's tokenizer and wordembedding\n",
        "In the original implementation, they use the GloVe embeddings and tokenizer. To get going fast, we'll use a multilingual LLM from Hugging Face.\n",
        "Utilizing the tokenizer to tokenize the articles and the word-embedding to init NRMS."
      ]
    },
    {
      "cell_type": "code",
      "execution_count": null,
      "metadata": {
        "colab": {
          "base_uri": "https://localhost:8080/"
        },
        "id": "uByFXkR3DAT6",
        "outputId": "8bcbdb93-51fc-4331-b901-d43f89fc11f2"
      },
      "outputs": [
        {
          "name": "stderr",
          "output_type": "stream",
          "text": [
            "/usr/local/lib/python3.10/dist-packages/huggingface_hub/utils/_auth.py:94: UserWarning: \n",
            "The secret `HF_TOKEN` does not exist in your Colab secrets.\n",
            "To authenticate with the Hugging Face Hub, create a token in your settings tab (https://huggingface.co/settings/tokens), set it as secret in your Google Colab and restart your session.\n",
            "You will be able to reuse this secret in all of your notebooks.\n",
            "Please note that authentication is recommended but still optional to access public models or datasets.\n",
            "  warnings.warn(\n"
          ]
        }
      ],
      "source": [
        "TRANSFORMER_MODEL_NAME = \"FacebookAI/xlm-roberta-base\"\n",
        "TEXT_COLUMNS_TO_USE = [DEFAULT_SUBTITLE_COL, DEFAULT_TITLE_COL]\n",
        "\n",
        "# LOAD HUGGINGFACE:\n",
        "transformer_model = AutoModel.from_pretrained(TRANSFORMER_MODEL_NAME)\n",
        "transformer_tokenizer = AutoTokenizer.from_pretrained(TRANSFORMER_MODEL_NAME)\n",
        "\n",
        "# We'll init the word embeddings using the\n",
        "word2vec_embedding = get_transformers_word_embeddings(transformer_model)\n",
        "\n",
        "word2vec_embedding = torch.tensor(word2vec_embedding, dtype=torch.float, device=device)\n",
        "#\n",
        "df_articles, cat_cal = concat_str_columns(df_articles, columns=TEXT_COLUMNS_TO_USE)\n",
        "df_articles, token_col_title = convert_text2encoding_with_transformers(\n",
        "    df_articles, transformer_tokenizer, cat_cal, max_length=MAX_TITLE_LENGTH\n",
        ")\n",
        "# =>\n",
        "article_mapping = create_article_id_to_value_mapping(\n",
        "    df=df_articles, value_col=token_col_title\n",
        ")"
      ]
    },
    {
      "cell_type": "code",
      "execution_count": null,
      "metadata": {
        "id": "T0QO8Y89qHld"
      },
      "outputs": [],
      "source": [
        "# Initialize the DataLoader for the training dataset\n",
        "train_dataset = NRMSDataLoaderPretransform(\n",
        "    behaviors=df_train,                      # The training dataset containing user behaviors\n",
        "    article_dict=article_mapping,            # A dictionary mapping article IDs to their embeddings or representations\n",
        "    unknown_representation=\"zeros\",          # Use zero vectors for unknown articles in the user history\n",
        "    history_column=DEFAULT_HISTORY_ARTICLE_ID_COL,  # Column name containing the user’s article history\n",
        "    eval=False,                              # Set to False for training mode\n",
        ")\n",
        "\n",
        "# Initialize the DataLoader for the validation dataset\n",
        "val_dataset = NRMSDataLoaderPretransform(\n",
        "    behaviors=df_validation,                 # The validation dataset containing user behaviors\n",
        "    article_dict=article_mapping,            # Use the same article mapping as for training\n",
        "    unknown_representation=\"zeros\",          # Use zero vectors for unknown articles in the user history\n",
        "    history_column=DEFAULT_HISTORY_ARTICLE_ID_COL,  # Column name containing the user’s article history\n",
        "    eval=False,                              # Set to False since we’re not evaluating here yet\n",
        ")\n",
        "\n",
        "# Create a PyTorch DataLoader for the training dataset\n",
        "data_loader_train_pt = DataLoader(\n",
        "    train_dataset,                           # The processed training dataset\n",
        "    batch_size=TRAIN_BATCH_SIZE,             # Batch size for training\n",
        "    shuffle=True                             # Shuffle the data for randomized training batches\n",
        ")\n",
        "\n",
        "# Create a PyTorch DataLoader for the validation dataset\n",
        "data_loader_val_pt = DataLoader(\n",
        "    val_dataset,                             # The processed validation dataset\n",
        "    batch_size=TRAIN_BATCH_SIZE,             # Batch size for validation\n",
        "    shuffle=True                             # Shuffle the validation data for consistency with training\n",
        ")"
      ]
    },
    {
      "cell_type": "markdown",
      "metadata": {
        "id": "0LCB_xcg7h5s"
      },
      "source": [
        "# Training the Model"
      ]
    },
    {
      "cell_type": "markdown",
      "metadata": {
        "id": "R_5u1_Ru7jkX"
      },
      "source": [
        "## Setting up Training Parameters and Model Performance Metrics"
      ]
    },
    {
      "cell_type": "code",
      "execution_count": null,
      "metadata": {
        "id": "xoyROtnmiHFO"
      },
      "outputs": [],
      "source": [
        "# Define the model and move it to cuda if available\n",
        "model = NRMS_baseline_pytorch(hparams_nrms, word2vec_embedding, seed = 1)\n",
        "model = model.to(device)\n",
        "\n",
        "# Define the loss function and optimizer\n",
        "criterion = nn.CrossEntropyLoss()\n",
        "optimizer = optim.Adam(model.parameters(), hparams_nrms.learning_rate)\n",
        "\n",
        "MODEL_NAME = model.__class__.__name__"
      ]
    },
    {
      "cell_type": "code",
      "execution_count": null,
      "metadata": {
        "id": "X_jCDzZer3y5"
      },
      "outputs": [],
      "source": [
        "# Initialize AUC metrics\n",
        "train_auc_metric = MulticlassAUROC(num_classes=NUM_CLASSES, average=\"macro\").to(device)\n",
        "val_auc_metric = MulticlassAUROC(num_classes=NUM_CLASSES, average=\"macro\").to(device)\n",
        "best_val_auc = float('-inf')  # For maximizing AUC\n",
        "\n",
        "# Set up parameters for early stopping\n",
        "patience_counter = 0\n",
        "\n",
        "# Store best model\n",
        "best_model_weights = None\n",
        "\n",
        "# Learning rate scheduler\n",
        "scheduler = torch.optim.lr_scheduler.ReduceLROnPlateau(optimizer, mode='max', patience=5, factor=0.2, min_lr = 1e-6, verbose=True)\n",
        "\n",
        "# Initialize lists for logging\n",
        "train_loss_intervals = []  # Training loss after each validation interval\n",
        "valid_loss_intervals = []  # Validation loss after each validation interval\n",
        "train_auc_intervals = []   # Training AUC after each validation interval\n",
        "valid_auc_intervals = []   # Validation AUC after each validation interval\n",
        "interval_counts = []       # Track intervals (for plotting x-axis)"
      ]
    },
    {
      "cell_type": "markdown",
      "metadata": {
        "id": "_SjjkkdM7pGi"
      },
      "source": [
        "## Training loop"
      ]
    },
    {
      "cell_type": "code",
      "execution_count": null,
      "metadata": {
        "colab": {
          "base_uri": "https://localhost:8080/"
        },
        "id": "NJLPZZlPr_ue",
        "outputId": "d80edb54-7bdf-48aa-8eb1-0adb90798899"
      },
      "outputs": [
        {
          "name": "stdout",
          "output_type": "stream",
          "text": [
            "Epoch 1/5\n",
            "Batch 100: Train Loss: 1.6037, Train AUC: 0.5439, Validation Loss: 1.6002, Validation AUC: 0.5568\n",
            "Batch 200: Train Loss: 1.5983, Train AUC: 0.5549, Validation Loss: 1.5990, Validation AUC: 0.5507\n",
            "Batch 300: Train Loss: 1.5920, Train AUC: 0.5688, Validation Loss: 1.6007, Validation AUC: 0.5482\n",
            "Batch 400: Train Loss: 1.5859, Train AUC: 0.5793, Validation Loss: 1.5908, Validation AUC: 0.5728\n",
            "Batch 500: Train Loss: 1.5820, Train AUC: 0.5843, Validation Loss: 1.5886, Validation AUC: 0.5784\n",
            "Batch 600: Train Loss: 1.5771, Train AUC: 0.5921, Validation Loss: 1.5802, Validation AUC: 0.5911\n",
            "Batch 700: Train Loss: 1.5743, Train AUC: 0.5964, Validation Loss: 1.5845, Validation AUC: 0.5868\n",
            "Batch 800: Train Loss: 1.5717, Train AUC: 0.6004, Validation Loss: 1.5828, Validation AUC: 0.5879\n",
            "Batch 900: Train Loss: 1.5705, Train AUC: 0.6024, Validation Loss: 1.5868, Validation AUC: 0.5854\n",
            "Batch 1000: Train Loss: 1.5688, Train AUC: 0.6050, Validation Loss: 1.5811, Validation AUC: 0.5909\n",
            "Batch 1100: Train Loss: 1.5666, Train AUC: 0.6085, Validation Loss: 1.5790, Validation AUC: 0.5938\n",
            "Batch 1200: Train Loss: 1.5647, Train AUC: 0.6113, Validation Loss: 1.5854, Validation AUC: 0.5860\n",
            "Batch 1300: Train Loss: 1.5628, Train AUC: 0.6138, Validation Loss: 1.5851, Validation AUC: 0.5866\n",
            "Batch 1400: Train Loss: 1.5603, Train AUC: 0.6175, Validation Loss: 1.5852, Validation AUC: 0.5861\n",
            "Batch 1500: Train Loss: 1.5588, Train AUC: 0.6192, Validation Loss: 1.5821, Validation AUC: 0.5892\n",
            "Batch 1600: Train Loss: 1.5577, Train AUC: 0.6205, Validation Loss: 1.5818, Validation AUC: 0.5887\n",
            "Early stopping triggered after 1600 batches (within epoch).\n"
          ]
        }
      ],
      "source": [
        "model.train()  # Ensure the model is in training mode\n",
        "batch_counter = 0 # Set batch counter to 0.\n",
        "\n",
        "for epoch in range(NUM_EPOCH):\n",
        "    print(f\"Epoch {epoch + 1}/{NUM_EPOCH}\")\n",
        "    epoch_train_loss = 0 # Set training loss for each epoch to 0 at the start\n",
        "    train_auc_metric.reset() # Reset AUC computations\n",
        "\n",
        "    # Training loop\n",
        "    model.train()  # Switch to training mode\n",
        "    for batch_idx, arguments in enumerate(data_loader_train_pt): # Loop over training batches\n",
        "        targets = arguments[1].to(device)\n",
        "        his_input = arguments[0][0].to(device)\n",
        "        pred_input = arguments[0][1].to(device)\n",
        "\n",
        "        optimizer.zero_grad() # Reset gradients\n",
        "\n",
        "        predictions = model(his_input, pred_input)  # Forward pass\n",
        "\n",
        "        loss = criterion(predictions, targets.argmax(dim=1))  # Compute loss\n",
        "        epoch_train_loss += loss.detach().item() # Add loss to overall epoch loss\n",
        "\n",
        "        # Update training AUC metric\n",
        "        train_auc_metric.update(predictions, targets.argmax(dim=1))\n",
        "\n",
        "        loss.backward() # Compute the gradients of the loss function with respect to the model parameters\n",
        "        optimizer.step() # Update the model parameters using the gradients computed\n",
        "\n",
        "        batch_counter += 1 # Increment counter\n",
        "\n",
        "        \"\"\"\n",
        "        After we have trained on VAL_INTERVAL BATCHES we evaluate the model on the validation set. We do this because we saw\n",
        "        that the model overfitted when we did early stopping on the epoch level, when training on all the training data.\n",
        "        \"\"\"\n",
        "        if batch_counter % VAL_INTERVAL == 0:\n",
        "            model.eval()  # Switch to evaluation mode\n",
        "            val_loss_total = 0\n",
        "            val_auc_metric.reset()\n",
        "\n",
        "            # Compute the predictions on the validation set\n",
        "            with torch.no_grad():\n",
        "                for val_arguments in data_loader_val_pt:\n",
        "                    val_targets = val_arguments[1].to(device)\n",
        "                    val_his_input = val_arguments[0][0].to(device)\n",
        "                    val_pred_input = val_arguments[0][1].to(device)\n",
        "\n",
        "                    val_preds = model(val_his_input, val_pred_input) # Predict based on the input\n",
        "                    val_loss = criterion(val_preds, val_targets.argmax(dim=1)) # Compute the validation loss\n",
        "                    val_loss_total += val_loss.detach().item() # Add to the total loss\n",
        "\n",
        "                    # Update validation AUC metric\n",
        "                    val_auc_metric.update(val_preds, val_targets.argmax(dim=1))\n",
        "\n",
        "            # Average validation loss\n",
        "            avg_val_loss = val_loss_total / len(data_loader_val_pt)\n",
        "\n",
        "            # Calculate validation AUC\n",
        "            val_auc = val_auc_metric.compute().item()\n",
        "\n",
        "            # Log metrics\n",
        "            train_loss_intervals.append(epoch_train_loss / batch_counter)  # Avg training loss so far\n",
        "            valid_loss_intervals.append(avg_val_loss)\n",
        "            train_auc_intervals.append(train_auc_metric.compute().item())\n",
        "            valid_auc_intervals.append(val_auc)\n",
        "            interval_counts.append(batch_counter)\n",
        "\n",
        "            # Print the performance of the model on the training (trained on so far) and the validation set\n",
        "            print(f\"Batch {batch_counter}: Train Loss: {train_loss_intervals[-1]:.4f}, Train AUC: {train_auc_intervals[-1]:.4f}, Validation Loss: {avg_val_loss:.4f}, Validation AUC: {val_auc:.4f}\")\n",
        "\n",
        "            # Step the scheduler with validation AUC\n",
        "            scheduler.step(val_auc)\n",
        "\n",
        "            # Early Stopping Check (based on AUC on the validation set)\n",
        "            if val_auc > best_val_auc:\n",
        "                best_val_auc = val_auc\n",
        "                patience_counter = 0\n",
        "                best_model_weights = model.state_dict()  # Save best model weights\n",
        "            else:\n",
        "                patience_counter += 1\n",
        "\n",
        "            # If model has not improved for PATIENCE * VAL_INTERVAL batches of training, stop training and load the model that performed best on the validation set.\n",
        "            if patience_counter >= PATIENCE:\n",
        "                print(f\"Early stopping triggered after {batch_counter} batches (within epoch).\")\n",
        "                model.load_state_dict(best_model_weights)  # Restore best weights\n",
        "                break\n",
        "\n",
        "            model.train()  # Switch back to training mode\n",
        "\n",
        "    # Break the epoch loop if early stopping triggered\n",
        "    if patience_counter >= PATIENCE:\n",
        "        break\n",
        "\n",
        "# Save the best model weights (if early stopping occurred)\n",
        "if best_model_weights:\n",
        "    model.load_state_dict(best_model_weights)\n",
        "\n",
        "# Save the best encoders to use for the scoring model on the test set\n",
        "torch.save(model.news_encoder.state_dict(), \"newsencoder.pth\")\n",
        "torch.save(model.user_encoder.state_dict(), \"userencoder.pth\")"
      ]
    },
    {
      "cell_type": "markdown",
      "metadata": {
        "id": "1puvuNHW7rvZ"
      },
      "source": [
        "# Plotting the Model Performance Under Training Procedure"
      ]
    },
    {
      "cell_type": "code",
      "execution_count": null,
      "metadata": {
        "colab": {
          "base_uri": "https://localhost:8080/",
          "height": 1000
        },
        "id": "-Fhff_2csC1w",
        "outputId": "a40ebcbf-174f-43c2-ac02-f797b1212115"
      },
      "outputs": [
        {
          "data": {
            "image/png": "[encoded data removed]",
            "text/plain": [
              "<Figure size 1200x600 with 1 Axes>"
            ]
          },
          "metadata": {},
          "output_type": "display_data"
        },
        {
          "data": {
            "image/png": "[encoded data removed]",
            "text/plain": [
              "<Figure size 1200x600 with 1 Axes>"
            ]
          },
          "metadata": {},
          "output_type": "display_data"
        }
      ],
      "source": [
        "# Plot training and validation metrics for each interval\n",
        "# Plot 1: Loss (Training and Validation)\n",
        "plt.figure(figsize=(12, 6))\n",
        "plt.plot(interval_counts, train_loss_intervals, label=\"Training Loss (Average Across Training so far)\", marker='o')\n",
        "plt.plot(interval_counts, valid_loss_intervals, label=\"Validation Loss\", marker='o')\n",
        "\n",
        "plt.xlabel(\"Batch Count (After Validation Interval)\")\n",
        "plt.ylabel(\"Cross-Entropy Loss\")\n",
        "plt.title(f\"Training and Validation Loss After Every {VAL_INTERVAL} Batches\")\n",
        "plt.legend()\n",
        "plt.grid(True)\n",
        "plt.show()\n",
        "\n",
        "# Plot 2: AUC (Training and Validation)\n",
        "plt.figure(figsize=(12, 6))\n",
        "plt.plot(interval_counts, train_auc_intervals, label=\"Training AUC (Average Across Training so far)\", marker='o')\n",
        "plt.plot(interval_counts, valid_auc_intervals, label=\"Validation AUC\", marker='o')\n",
        "\n",
        "plt.xlabel(\"Batch Count (After Validation Interval)\")\n",
        "plt.ylabel(\"AUC\")\n",
        "plt.title(f\"Training and Validation AUC After Every {VAL_INTERVAL} Batches\")\n",
        "plt.legend()\n",
        "plt.grid(True)\n",
        "plt.show()"
      ]
    },
    {
      "cell_type": "markdown",
      "metadata": {
        "id": "XgWswKZ-7u_V"
      },
      "source": [
        "# We Now Let the Final Model Score on the Large Test Set"
      ]
    },
    {
      "cell_type": "code",
      "execution_count": null,
      "metadata": {
        "colab": {
          "base_uri": "https://localhost:8080/"
        },
        "id": "VE9PWJcr2n6G",
        "outputId": "4a20cac3-a6cd-48b1-9352-ef8af8301a46"
      },
      "outputs": [
        {
          "name": "stderr",
          "output_type": "stream",
          "text": [
            "<ipython-input-14-3d9f440391e1>:6: FutureWarning: You are using `torch.load` with `weights_only=False` (the current default value), which uses the default pickle module implicitly. It is possible to construct malicious pickle data which will execute arbitrary code during unpickling (See https://github.com/pytorch/pytorch/blob/main/SECURITY.md#untrusted-models for more details). In a future release, the default value for `weights_only` will be flipped to `True`. This limits the functions that could be executed during unpickling. Arbitrary objects will no longer be allowed to be loaded via this mode unless they are explicitly allowlisted by the user via `torch.serialization.add_safe_globals`. We recommend you start setting `weights_only=True` for any use case where you don't have full control of the loaded file. Please open an issue on GitHub for any issues related to this experimental feature.\n",
            "  news_encoder.load_state_dict(torch.load(\"newsencoder.pth\"))\n",
            "<ipython-input-14-3d9f440391e1>:7: FutureWarning: You are using `torch.load` with `weights_only=False` (the current default value), which uses the default pickle module implicitly. It is possible to construct malicious pickle data which will execute arbitrary code during unpickling (See https://github.com/pytorch/pytorch/blob/main/SECURITY.md#untrusted-models for more details). In a future release, the default value for `weights_only` will be flipped to `True`. This limits the functions that could be executed during unpickling. Arbitrary objects will no longer be allowed to be loaded via this mode unless they are explicitly allowlisted by the user via `torch.serialization.add_safe_globals`. We recommend you start setting `weights_only=True` for any use case where you don't have full control of the loaded file. Please open an issue on GitHub for any issues related to this experimental feature.\n",
            "  user_encoder.load_state_dict(torch.load(\"userencoder.pth\"))\n"
          ]
        },
        {
          "data": {
            "text/plain": [
              "<All keys matched successfully>"
            ]
          },
          "execution_count": 14,
          "metadata": {},
          "output_type": "execute_result"
        }
      ],
      "source": [
        "# We create an instance of a news_encoder and a user_encoder\n",
        "news_encoder = NewsEncoder(word2vec_embedding, hparams_nrms.title_size, hparams_nrms.dropout, hparams_nrms.head_num, hparams_nrms.head_dim, hparams_nrms.word_embedding_dim, hparams_nrms.attention_hidden_dim, hparams_nrms.seed).to(device)\n",
        "user_encoder = UserEncoder(news_encoder, hparams_nrms.head_num, hparams_nrms.head_dim, hparams_nrms.attention_hidden_dim, 1).to(device)\n",
        "\n",
        "# Load the best performing model from the training\n",
        "news_encoder.load_state_dict(torch.load(\"newsencoder.pth\"))\n",
        "user_encoder.load_state_dict(torch.load(\"userencoder.pth\"))"
      ]
    },
    {
      "cell_type": "code",
      "execution_count": null,
      "metadata": {
        "id": "hNbOSArN2qSP"
      },
      "outputs": [],
      "source": [
        "scorer_model = ScorerModel(user_encoder, news_encoder) # Intialize the model"
      ]
    },
    {
      "cell_type": "markdown",
      "metadata": {
        "id": "xTBCqBqo7xJS"
      },
      "source": [
        "# Load the Test Set"
      ]
    },
    {
      "cell_type": "code",
      "execution_count": null,
      "metadata": {
        "colab": {
          "base_uri": "https://localhost:8080/"
        },
        "id": "5lmu7kXy2sWt",
        "outputId": "3c7aa97b-543c-45a4-904c-68fed3c5a689"
      },
      "outputs": [
        {
          "name": "stdout",
          "output_type": "stream",
          "text": [
            "Initiating testset...\n"
          ]
        }
      ],
      "source": [
        "print(\"Initiating testset...\")\n",
        "df_test = (\n",
        "    ebnerd_from_path(\n",
        "        PATH.joinpath(DATASPLIT, \"test\"),\n",
        "        history_size=HISTORY_SIZE,\n",
        "        padding=0,\n",
        "    )\n",
        "    .sample(fraction=FRACTION_TEST)\n",
        "    .with_columns(\n",
        "        pl.col(DEFAULT_INVIEW_ARTICLES_COL)\n",
        "        .list.first()\n",
        "        .alias(DEFAULT_CLICKED_ARTICLES_COL)\n",
        "    )\n",
        "    .select(COLUMNS + [DEFAULT_IS_BEYOND_ACCURACY_COL])\n",
        "    .with_columns(\n",
        "        pl.col(DEFAULT_INVIEW_ARTICLES_COL)\n",
        "        .list.eval(pl.element() * 0)\n",
        "        .alias(DEFAULT_LABELS_COL)\n",
        "    )\n",
        ")"
      ]
    },
    {
      "cell_type": "markdown",
      "metadata": {
        "id": "NBTUogdh7zz2"
      },
      "source": [
        "# Split the Test Set"
      ]
    },
    {
      "cell_type": "code",
      "execution_count": null,
      "metadata": {
        "id": "Ql7IcoS_2vVI"
      },
      "outputs": [],
      "source": [
        "# Split test in beyond-accuracy TRUE / FALSE. In the BA 'article_ids_inview' is 250.\n",
        "df_test_wo_beyond = df_test.filter(~pl.col(DEFAULT_IS_BEYOND_ACCURACY_COL))\n",
        "df_test_w_beyond = df_test.filter(pl.col(DEFAULT_IS_BEYOND_ACCURACY_COL))"
      ]
    },
    {
      "cell_type": "markdown",
      "metadata": {
        "id": "vPIvEklL712U"
      },
      "source": [
        "# Chunk the Test Set so it can Fit into Memory"
      ]
    },
    {
      "cell_type": "code",
      "execution_count": null,
      "metadata": {
        "id": "0vtR-JAS2w24"
      },
      "outputs": [],
      "source": [
        "# Evaluating the test test can be memory intensive, we'll chunk it up:\n",
        "TEST_CHUNKS_DIR = PATH.joinpath(\"test_chunks\")\n",
        "TEST_CHUNKS_DIR.mkdir(parents=True, exist_ok=True)\n",
        "\n",
        "N_CHUNKS_TEST = 10\n",
        "\n",
        "df_test_chunks = split_df_chunks(df_test_wo_beyond, n_chunks=N_CHUNKS_TEST)\n",
        "df_pred_test_wo_beyond = []"
      ]
    },
    {
      "cell_type": "markdown",
      "metadata": {
        "id": "ce4v9Dp673x2"
      },
      "source": [
        "# Run the Model on the Test Set Without Beyond-Accuracy"
      ]
    },
    {
      "cell_type": "code",
      "execution_count": null,
      "metadata": {
        "id": "mb2MOQUF2y4n"
      },
      "outputs": [],
      "source": [
        "# Start processing test data chunks for predictions\n",
        "CHUNKS_DONE = 0  # Tracks the number of chunks already processed\n",
        "print(\"Initiating test set processing without beyond-accuracy metrics...\")\n",
        "\n",
        "# Iterate through each test data chunk that hasn't been processed yet\n",
        "for i, df_test_chunk in enumerate(df_test_chunks[CHUNKS_DONE:], start=1 + CHUNKS_DONE):\n",
        "    print(f\"Now Processing chunk number: {i}\")\n",
        "\n",
        "    # Create the DataLoader for the current test chunk\n",
        "    test_dataset = NRMSDataLoaderPretransform(\n",
        "        behaviors=df_test_chunk,                    # Test chunk containing user behaviors\n",
        "        article_dict=article_mapping,               # Dictionary mapping article IDs to embeddings\n",
        "        unknown_representation=\"zeros\",             # Unknown articles are represented as zero vectors\n",
        "        history_column=DEFAULT_HISTORY_ARTICLE_ID_COL,  # Column containing user history\n",
        "        eval=True                                   # Set to evaluation mode\n",
        "    )\n",
        "    test_dataloader_wo_b = DataLoader(\n",
        "        test_dataset,                               # The preprocessed test dataset\n",
        "        batch_size=TEST_BATCH_SIZE,                # Batch size for test predictions\n",
        "        shuffle=False,                              # No shuffling required for evaluation\n",
        "        collate_fn=nrms_custom_collate_fn          # Custom collate function for batching\n",
        "    )\n",
        "\n",
        "    # Set the model to evaluation mode to disable training-specific layers like Dropout\n",
        "    model.eval()\n",
        "    predictions_test = []  # List to store predictions for this chunk\n",
        "\n",
        "    # Compute predictions without gradient calculations for efficiency\n",
        "    with torch.no_grad():\n",
        "        for arguments in test_dataloader_wo_b:\n",
        "            targets = arguments[1].to(device)       # Targets (e.g., labels) moved to the device\n",
        "            his_input = arguments[0][0].to(device) # Historical input for the user\n",
        "            pred_input = arguments[0][1].to(device) # Candidate news articles for scoring\n",
        "\n",
        "            predictions = scorer_model(his_input, pred_input)  # Generate predictions\n",
        "            predictions_test.extend(predictions.tolist())      # Collect predictions as a Python list\n",
        "\n",
        "    # Add prediction scores to the DataFrame and rank them\n",
        "    df_test_chunk = add_prediction_scores(df_test_chunk, predictions_test).with_columns(\n",
        "        pl.col(\"scores\")\n",
        "        .map_elements(lambda x: list(rank_predictions_by_score(x)))  # Rank predictions by score\n",
        "        .alias(\"ranked_scores\")                                     # Create a new column for ranked scores\n",
        "    )\n",
        "\n",
        "    # Save the processed chunk to a Parquet file\n",
        "    df_test_chunk.select(DEFAULT_IMPRESSION_ID_COL, \"ranked_scores\").write_parquet(\n",
        "        TEST_CHUNKS_DIR.joinpath(f\"pred_wo_ba_{i}.parquet\")\n",
        "    )\n",
        "\n",
        "    # Append the processed DataFrame chunk to the list\n",
        "    df_pred_test_wo_beyond.append(df_test_chunk)\n",
        "\n",
        "    # Clean up memory by deleting unused variables and triggering garbage collection\n",
        "    del df_test_chunk, test_dataloader_wo_b, predictions_test, test_dataset\n",
        "    gc.collect()\n",
        "\n",
        "# Concatenate all processed chunks into a single DataFrame\n",
        "df_pred_test_wo_beyond = pl.concat(df_pred_test_wo_beyond)\n",
        "\n",
        "# Save the concatenated predictions DataFrame to a final Parquet file\n",
        "df_pred_test_wo_beyond.select(DEFAULT_IMPRESSION_ID_COL, \"ranked_scores\").write_parquet(\n",
        "    TEST_CHUNKS_DIR.joinpath(\"pred_wo_ba.parquet\")\n",
        ")"
      ]
    },
    {
      "cell_type": "markdown",
      "metadata": {
        "id": "P93EfEjs772Z"
      },
      "source": [
        "# Initiating Testset with Beyond-Accuracy"
      ]
    },
    {
      "cell_type": "code",
      "execution_count": null,
      "metadata": {
        "id": "Sat9KUsE209J"
      },
      "outputs": [],
      "source": [
        "# Initialize the NRMSDataLoaderPretransform dataset for evaluation with pre-transformed data\n",
        "dataset_w_b = NRMSDataLoaderPretransform(\n",
        "    behaviors=df_test_w_beyond,  # Input test data with behaviors\n",
        "    article_dict=article_mapping,  # Article mapping for the dataset\n",
        "    unknown_representation=\"zeros\",  # Default representation for unknown articles\n",
        "    history_column=DEFAULT_HISTORY_ARTICLE_ID_COL,  # Column containing the history of article IDs\n",
        "    eval=True,  # Flag to indicate evaluation mode (typically disables certain operations like dropout)\n",
        ")\n",
        "\n",
        "# Create a DataLoader to load data in batches, without shuffling the test data\n",
        "test_dataloader_w_b = DataLoader(\n",
        "    dataset_w_b,  # The dataset to load from\n",
        "    batch_size=TEST_BATCH_SIZE,  # Batch size for testing\n",
        "    shuffle=False,  # Shuffling is not needed during evaluation\n",
        "    collate_fn=nrms_custom_collate_fn  # Custom function to process each batch\n",
        ")\n",
        "\n",
        "# List to hold all the predictions from the test set\n",
        "predictions_test_wb = []\n",
        "\n",
        "# Disable gradient computation to speed up inference and save memory\n",
        "with torch.no_grad():\n",
        "    # Iterate through the test data batches\n",
        "    for arguments in test_dataloader_w_b:\n",
        "        # Extract the targets (labels) and move them to the appropriate device (e.g., GPU)\n",
        "        targets = arguments[1].to(device)\n",
        "\n",
        "        # Extract the historical input and prediction input, and move them to the device\n",
        "        his_input = arguments[0][0].to(device)\n",
        "        pred_input = arguments[0][1].to(device)\n",
        "\n",
        "        # Get predictions from the scorer model using historical and prediction input\n",
        "        predictions = scorer_model(his_input, pred_input)\n",
        "\n",
        "        # Append the predictions to the list\n",
        "        predictions_test_wb.extend(predictions.tolist())\n",
        "\n",
        "# Add the predictions as new scores to the test dataframe\n",
        "df_pred_test_w_beyond = add_prediction_scores(df_test_w_beyond, predictions_test_wb).with_columns(\n",
        "    pl.col(\"scores\")  # Select the scores column\n",
        "    .map_elements(lambda x: list(rank_predictions_by_score(x)))  # Rank predictions by score\n",
        "    .alias(\"ranked_scores\")  # Alias the ranked scores as \"ranked_scores\"\n",
        ")\n",
        "\n",
        "# Select relevant columns and save the results to a Parquet file\n",
        "df_pred_test_w_beyond.select(DEFAULT_IMPRESSION_ID_COL, \"ranked_scores\").write_parquet(\n",
        "    TEST_CHUNKS_DIR.joinpath(\"pred_w_ba.parquet\")  # Save the ranked predictions to a Parquet file\n",
        ")"
      ]
    },
    {
      "cell_type": "markdown",
      "metadata": {
        "id": "YKBXYiAd8QRT"
      },
      "source": [
        "# Read Test Predictions into Memory"
      ]
    },
    {
      "cell_type": "code",
      "execution_count": null,
      "metadata": {
        "id": "HIeEAxBz22ee"
      },
      "outputs": [],
      "source": [
        "wo_beyond = PATH.joinpath(\"test_chunks/pred_wo_ba.parquet\")\n",
        "w_beyond = PATH.joinpath(\"test_chunks/pred_w_ba.parquet\")\n",
        "df_pred_test_wo_beyond = pl.read_parquet(wo_beyond)\n",
        "df_pred_test_w_beyond = pl.read_parquet(w_beyond)"
      ]
    },
    {
      "cell_type": "markdown",
      "metadata": {
        "id": "WnMvc99y8Rve"
      },
      "source": [
        "# Create Submission File"
      ]
    },
    {
      "cell_type": "code",
      "execution_count": null,
      "metadata": {
        "id": "D9mN0UhX23sn"
      },
      "outputs": [],
      "source": [
        "print(\"Saving prediction results...\")\n",
        "df_test = pl.concat([df_pred_test_wo_beyond, df_pred_test_w_beyond])\n",
        "df_test.select(DEFAULT_IMPRESSION_ID_COL, \"ranked_scores\").write_parquet(\n",
        "    PATH.joinpath(\"test_predictions.parquet\")\n",
        ")\n",
        "\"\"\"\n",
        "if TEST_CHUNKS_DIR.exists() and TEST_CHUNKS_DIR.is_dir():\n",
        "    shutil.rmtree(TEST_CHUNKS_DIR)\n",
        "\"\"\"\n",
        "write_submission_file(\n",
        "    impression_ids=df_test[DEFAULT_IMPRESSION_ID_COL],\n",
        "    prediction_scores=df_test[\"ranked_scores\"],\n",
        "    path=PATH.joinpath(\"predictions.txt\"),\n",
        "    filename_zip=f\"{MODEL_NAME}-{SEED}-{DATASPLIT}.zip\",\n",
        ")"
      ]
    }
  ],
  "metadata": {
    "accelerator": "GPU",
    "colab": {
      "gpuType": "T4",
      "machine_shape": "hm",
      "provenance": []
    },
    "kernelspec": {
      "display_name": "Python 3",
      "name": "python3"
    },
    "language_info": {
      "name": "python"
    }
  },
  "nbformat": 4,
  "nbformat_minor": 0
}
