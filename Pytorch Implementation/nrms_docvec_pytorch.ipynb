{
  "cells": [
    {
      "cell_type": "markdown",
      "metadata": {
        "id": "futpGLEf7e5Q"
      },
      "source": [
        "## NRMS Model with Pre-Embedded Article Content  \n",
        "### Course: *02456 - Deep Learning*  \n",
        "**Technical University of Denmark (DTU)**  \n",
        "\n",
        "---\n",
        "\n",
        "### 📜 **Context**  \n",
        "- The below script has been created in relation to the course 02456 - Deep Learning at the Technical University of Denmark. We were tasked with building a news recommender model that could the Danish media Extra Bladet predict user preferences for news articles. We implemented our own pytorch model, that is inspired from the article [Neural News Recommendation with Multi-Head Self-Attention](https://dl.acm.org/doi/10.1145/3640457.3687164)\n",
        "---\n",
        "\n",
        "### 📝 **Differences from the Original Paper**  \n",
        "- **Original Implementation**: The paper embeds words from the **title** of each article.  \n",
        "- **Our Adaptation**: Instead of using title words, we use **pre-embedded versions of the full article content** in our **news encoder**.\n",
        "\n",
        "---\n",
        "\n",
        "### 🛠️ **What Does This Script Do?**  \n",
        "\n",
        "1. **Model Creation**:  \n",
        "   - Implements a PyTorch version of the **NRMS model** based on **multi-head self-attention**.\n",
        "\n",
        "2. **Training**:  \n",
        "   - Trains the model using training data from **Extra Bladet's \"2024 RecSys Challenge\"**.\n",
        "\n",
        "3. **Evaluation**:  \n",
        "   - Scores the model on the **full test set**, which contains more than **13,000,000 user visits** to the Extra Bladet website.\n",
        "\n",
        "---\n",
        "\n",
        "### 💻 **Hardware Setup**  \n",
        "\n",
        "- During our project, we have been running this notebook on DTU's HPC and on Google Colab Pro on the T4 GPU with 50GB of system RAM.\n",
        "---\n",
        "### 🔗 **References**  \n",
        "\n",
        "1. Article: [Neural News Recommendation with Multi-Head Self-Attention](https://dl.acm.org/doi/10.1145/3640457.3687164)  \n",
        "2. Dataset: [Extra Bladet's \"2024 RecSys Challenge\"](https://recsys.eb.dk/)\n",
        "\n",
        "---\n",
        "### 🖊️ **Authors**  \n",
        "- Simon Stohrer\n",
        "- Jonas Vincent Ralf Dauscher\n",
        "- Jofre Bonillo Mesegué\n",
        "- Jan Christopher Leisbrock\n",
        "- Emil Kragh Toft"
      ]
    },
    {
      "cell_type": "markdown",
      "metadata": {
        "id": "1vv-boJqIA0L"
      },
      "source": [
        "# Installing Correct Package Versions\n",
        "Some of the legacy code we were given by Johannes, requires packages not pre-installed on colab or a specific package version. We download these below."
      ]
    },
    {
      "cell_type": "code",
      "execution_count": null,
      "metadata": {
        "colab": {
          "base_uri": "https://localhost:8080/"
        },
        "id": "EuBrAG7uIUJ3",
        "outputId": "299c188b-bfbe-41d8-9dee-02d8c7023af3"
      },
      "outputs": [
        {
          "name": "stdout",
          "output_type": "stream",
          "text": [
            "Requirement already satisfied: polars==0.20.8 in /usr/local/lib/python3.10/dist-packages (0.20.8)\n",
            "Requirement already satisfied: torchmetrics in /usr/local/lib/python3.10/dist-packages (1.6.0)\n",
            "Requirement already satisfied: numpy>1.20.0 in /usr/local/lib/python3.10/dist-packages (from torchmetrics) (1.26.4)\n",
            "Requirement already satisfied: packaging>17.1 in /usr/local/lib/python3.10/dist-packages (from torchmetrics) (24.2)\n",
            "Requirement already satisfied: torch>=2.0.0 in /usr/local/lib/python3.10/dist-packages (from torchmetrics) (2.5.1+cu121)\n",
            "Requirement already satisfied: lightning-utilities>=0.8.0 in /usr/local/lib/python3.10/dist-packages (from torchmetrics) (0.11.9)\n",
            "Requirement already satisfied: setuptools in /usr/local/lib/python3.10/dist-packages (from lightning-utilities>=0.8.0->torchmetrics) (75.1.0)\n",
            "Requirement already satisfied: typing-extensions in /usr/local/lib/python3.10/dist-packages (from lightning-utilities>=0.8.0->torchmetrics) (4.12.2)\n",
            "Requirement already satisfied: filelock in /usr/local/lib/python3.10/dist-packages (from torch>=2.0.0->torchmetrics) (3.16.1)\n",
            "Requirement already satisfied: networkx in /usr/local/lib/python3.10/dist-packages (from torch>=2.0.0->torchmetrics) (3.4.2)\n",
            "Requirement already satisfied: jinja2 in /usr/local/lib/python3.10/dist-packages (from torch>=2.0.0->torchmetrics) (3.1.4)\n",
            "Requirement already satisfied: fsspec in /usr/local/lib/python3.10/dist-packages (from torch>=2.0.0->torchmetrics) (2024.10.0)\n",
            "Requirement already satisfied: sympy==1.13.1 in /usr/local/lib/python3.10/dist-packages (from torch>=2.0.0->torchmetrics) (1.13.1)\n",
            "Requirement already satisfied: mpmath<1.4,>=1.1.0 in /usr/local/lib/python3.10/dist-packages (from sympy==1.13.1->torch>=2.0.0->torchmetrics) (1.3.0)\n",
            "Requirement already satisfied: MarkupSafe>=2.0 in /usr/local/lib/python3.10/dist-packages (from jinja2->torch>=2.0.0->torchmetrics) (3.0.2)\n"
          ]
        }
      ],
      "source": [
        "!pip install polars==0.20.8\n",
        "!pip install torchmetrics"
      ]
    },
    {
      "cell_type": "markdown",
      "metadata": {
        "id": "ifl_PddWG4oc"
      },
      "source": [
        "# Setting the Correct File Paths\n",
        "Below we set the file paths for where we store our data and python files. If you want to run it yourself, please change these paths."
      ]
    },
    {
      "cell_type": "code",
      "execution_count": null,
      "metadata": {
        "id": "Jk2Zb1nVHFbz"
      },
      "outputs": [],
      "source": [
        "# Change these to your paths (These are setup to run on google colab)\n",
        "drive_path = '/content/drive/'\n",
        "python_files_path = '/content/drive/MyDrive/DeepLearningProject'\n",
        "article_embeddings_path = '/content/drive/MyDrive/DeepLearningProject/Data/contrastive_vector.parquet'\n",
        "user_impressions_path = '/content/drive/MyDrive/DeepLearningProject/Data'"
      ]
    },
    {
      "cell_type": "markdown",
      "metadata": {
        "id": "KHwvw_O3GWWY"
      },
      "source": [
        "### 💻 Setting Up the Notebook for Google Colab  \n",
        "\n",
        "To ensure compatibility and seamless execution, the notebook is configured to run on **Google Colab**. This setup includes installing necessary dependencies, mounting Google Drive for accessing datasets and saving results."
      ]
    },
    {
      "cell_type": "code",
      "execution_count": null,
      "metadata": {
        "colab": {
          "base_uri": "https://localhost:8080/"
        },
        "id": "XAmDxEG5Tpz4",
        "outputId": "de6918f4-9886-4561-a521-f3ce1839850c"
      },
      "outputs": [
        {
          "name": "stdout",
          "output_type": "stream",
          "text": [
            "Drive already mounted at /content/drive/; to attempt to forcibly remount, call drive.mount(\"/content/drive/\", force_remount=True).\n"
          ]
        }
      ],
      "source": [
        "from google.colab import drive\n",
        "import sys\n",
        "import torch\n",
        "\n",
        "# Mount Google Drive\n",
        "drive.mount(drive_path)\n",
        "\n",
        "# Adjust path to where we store our files\n",
        "sys.path.append(python_files_path)\n",
        "\n",
        "# Set the device to CUDA if a GPU is available, otherwise use CPU\n",
        "device = torch.device(\"cuda\" if torch.cuda.is_available() else \"cpu\")"
      ]
    },
    {
      "cell_type": "markdown",
      "metadata": {
        "id": "j5Nf7rKGJTb_"
      },
      "source": [
        "# Importing Needed Packages and Our Own Implementation of the Model and Data Loaders"
      ]
    },
    {
      "cell_type": "code",
      "execution_count": null,
      "metadata": {
        "id": "ahJ9gEilT6YL"
      },
      "outputs": [],
      "source": [
        "from pathlib import Path\n",
        "import matplotlib.pyplot as plt\n",
        "import datetime as dt\n",
        "import polars as pl\n",
        "import numpy as np\n",
        "import shutil\n",
        "import gc\n",
        "import torch\n",
        "import torch.nn as nn\n",
        "import torch.optim as optim\n",
        "from torch.utils.data import DataLoader\n",
        "from torchmetrics.classification import MulticlassAUROC\n",
        "from torch.optim.lr_scheduler import ReduceLROnPlateau\n",
        "\n",
        "from ebrec.utils._constants import *\n",
        "\n",
        "from ebrec.utils._behaviors import (\n",
        "    create_binary_labels_column,\n",
        "    sampling_strategy_wu2019,\n",
        "    add_prediction_scores,\n",
        "    truncate_history,\n",
        "    ebnerd_from_path,\n",
        ")\n",
        "from ebrec.evaluation import MetricEvaluator, AucScore, NdcgScore, MrrScore\n",
        "\n",
        "from ebrec.utils._python import (\n",
        "    write_submission_file,\n",
        "    rank_predictions_by_score,\n",
        "    write_json_file,\n",
        ")\n",
        "from ebrec.utils._articles import create_article_id_to_value_mapping\n",
        "from ebrec.utils._polars import split_df_chunks, concat_str_columns\n",
        "\n",
        "from ebrec.models.newsrec.nrms_docvec_pytorch import NewsEncoder, UserEncoder, NRMS_docvec_pytorch, ScorerModel\n",
        "from ebrec.models.newsrec.dataloader_pytorch import NRMSDataLoaderPretransform, nrms_custom_collate_fn\n",
        "from ebrec.models.newsrec.model_config import hparams_nrms_docvec\n"
      ]
    },
    {
      "cell_type": "markdown",
      "metadata": {
        "id": "pPUSURcRJi8A"
      },
      "source": [
        "# Load Prespecified Paramaters for Our Model and the Training Procedure"
      ]
    },
    {
      "cell_type": "code",
      "execution_count": null,
      "metadata": {
        "id": "shhuLZXKKk27"
      },
      "outputs": [],
      "source": [
        "DATASPLIT = hparams_nrms_docvec.data_split\n",
        "HISTORY_SIZE = hparams_nrms_docvec.history_size\n",
        "TRAIN_FRACTION = hparams_nrms_docvec.train_fraction\n",
        "FRACTION_TEST = hparams_nrms_docvec.test_fraction\n",
        "SEED = hparams_nrms_docvec.seed\n",
        "NPRATIO = hparams_nrms_docvec.np_ratio\n",
        "TRAIN_BATCH_SIZE = hparams_nrms_docvec.train_batch_size\n",
        "TEST_BATCH_SIZE = hparams_nrms_docvec.test_batch_size\n",
        "NUM_CLASSES = hparams_nrms_docvec.num_classes\n",
        "NUM_EPOCH = hparams_nrms_docvec.num_epoch\n",
        "PATIENCE = hparams_nrms_docvec.patience_counter\n",
        "VAL_INTERVAL = hparams_nrms_docvec.val_interval"
      ]
    },
    {
      "cell_type": "markdown",
      "metadata": {
        "id": "5uER3ndiJebQ"
      },
      "source": [
        "# Load the Pre-embedded Articles"
      ]
    },
    {
      "cell_type": "code",
      "execution_count": null,
      "metadata": {
        "id": "orCHWagxVZTe"
      },
      "outputs": [],
      "source": [
        "# Set path for where the embedded articles are stored and load them into a dataframe\n",
        "df_articles = pl.read_parquet(Path(article_embeddings_path).expanduser())\n",
        "article_mapping = create_article_id_to_value_mapping(\n",
        "    df=df_articles, value_col=df_articles.columns[-1]\n",
        ")\n",
        "\n",
        "# Prespecify what columns from the dataset we are interested in\n",
        "COLUMNS = [\n",
        "    DEFAULT_IMPRESSION_TIMESTAMP_COL,\n",
        "    DEFAULT_HISTORY_ARTICLE_ID_COL,\n",
        "    DEFAULT_INVIEW_ARTICLES_COL,\n",
        "    DEFAULT_CLICKED_ARTICLES_COL,\n",
        "    DEFAULT_IMPRESSION_ID_COL,\n",
        "    DEFAULT_USER_COL,\n",
        "]"
      ]
    },
    {
      "cell_type": "markdown",
      "metadata": {
        "id": "G_m5X4StNTfg"
      },
      "source": [
        "# Load the User-Impressions and Create Our Training and Validation Dataset"
      ]
    },
    {
      "cell_type": "code",
      "execution_count": null,
      "metadata": {
        "id": "oBx7L2g8aX0t"
      },
      "outputs": [],
      "source": [
        "# Expand the user-impressions path to an absolute path\n",
        "PATH = Path(user_impressions_path).expanduser()\n",
        "\n",
        "# Create a single DataFrame `df` by concatenating processed training and validation datasets\n",
        "df = (\n",
        "    pl.concat(\n",
        "        [\n",
        "            # Load and process the training data using a custom function `ebnerd_from_path`\n",
        "            ebnerd_from_path(\n",
        "                PATH.joinpath(DATASPLIT, \"train\"),  # Path to training data\n",
        "                history_size=HISTORY_SIZE,         # Number of historical interactions to consider\n",
        "                padding=0,                         # Padding value for shorter histories\n",
        "            ),\n",
        "            # Load and process the validation data using the same function\n",
        "            ebnerd_from_path(\n",
        "                PATH.joinpath(DATASPLIT, \"validation\"),  # Path to validation data\n",
        "                history_size=HISTORY_SIZE,              # Number of historical interactions to consider\n",
        "                padding=0,                              # Padding value for shorter histories\n",
        "            ),\n",
        "        ]\n",
        "    )\n",
        "    # Randomly sample a fraction of the combined data for training, with a fixed seed for reproducibility\n",
        "    .sample(fraction=TRAIN_FRACTION, shuffle=True, seed=SEED)\n",
        "    # Select specific columns of interest for the model input\n",
        "    .select(COLUMNS)\n",
        "    # Apply the sampling strategy (e.g., negative sampling) to create balanced data\n",
        "    .pipe(\n",
        "        sampling_strategy_wu2019,  # Sampling strategy based on Wu et al. (2019)\n",
        "        npratio=NPRATIO,          # Ratio of negative to positive samples\n",
        "        shuffle=True,             # Shuffle the data after sampling\n",
        "        with_replacement=True,    # Allow sampling with replacement\n",
        "        seed=SEED,                # Seed for reproducibility\n",
        "    )\n",
        "    # Add a binary labels column (e.g., click or no-click)\n",
        "    .pipe(create_binary_labels_column)\n",
        ")\n",
        "\n",
        "# Define the last day in the dataset as the validation cutoff\n",
        "last_dt = df[DEFAULT_IMPRESSION_TIMESTAMP_COL].dt.date().max() - dt.timedelta(days=1)\n",
        "\n",
        "# Split the data into training and validation sets based on the cutoff\n",
        "df_train = df.filter(pl.col(DEFAULT_IMPRESSION_TIMESTAMP_COL).dt.date() < last_dt)  # Training set\n",
        "df_validation = df.filter(pl.col(DEFAULT_IMPRESSION_TIMESTAMP_COL).dt.date() >= last_dt)  # Validation set\n"
      ]
    },
    {
      "cell_type": "code",
      "execution_count": null,
      "metadata": {
        "id": "5Nqhry4BaZTY"
      },
      "outputs": [],
      "source": [
        "# Initialize the DataLoader for the training dataset\n",
        "train_dataset = NRMSDataLoaderPretransform(\n",
        "    behaviors=df_train,                      # The training dataset containing user behaviors\n",
        "    article_dict=article_mapping,            # A dictionary mapping article IDs to their embeddings or representations\n",
        "    unknown_representation=\"zeros\",          # Use zero vectors for unknown articles in the user history\n",
        "    history_column=DEFAULT_HISTORY_ARTICLE_ID_COL,  # Column name containing the user’s article history\n",
        "    eval=False,                              # Set to False for training mode\n",
        ")\n",
        "\n",
        "# Initialize the DataLoader for the validation dataset\n",
        "val_dataset = NRMSDataLoaderPretransform(\n",
        "    behaviors=df_validation,                 # The validation dataset containing user behaviors\n",
        "    article_dict=article_mapping,            # Use the same article mapping as for training\n",
        "    unknown_representation=\"zeros\",          # Use zero vectors for unknown articles in the user history\n",
        "    history_column=DEFAULT_HISTORY_ARTICLE_ID_COL,  # Column name containing the user’s article history\n",
        "    eval=False,                              # Set to False since we’re not evaluating here yet\n",
        ")\n",
        "\n",
        "# Create a PyTorch DataLoader for the training dataset\n",
        "data_loader_train_pt = DataLoader(\n",
        "    train_dataset,                           # The processed training dataset\n",
        "    batch_size=TRAIN_BATCH_SIZE,             # Batch size for training\n",
        "    shuffle=True                             # Shuffle the data for randomized training batches\n",
        ")\n",
        "\n",
        "# Create a PyTorch DataLoader for the validation dataset\n",
        "data_loader_val_pt = DataLoader(\n",
        "    val_dataset,                             # The processed validation dataset\n",
        "    batch_size=TRAIN_BATCH_SIZE,             # Batch size for validation\n",
        "    shuffle=True                             # Shuffle the validation data for consistency with training\n",
        ")"
      ]
    },
    {
      "cell_type": "markdown",
      "metadata": {
        "id": "8GxhS-t0QZo1"
      },
      "source": [
        "# Initializing the Model, Specifying the Loss Function and The Optimizer"
      ]
    },
    {
      "cell_type": "code",
      "execution_count": null,
      "metadata": {
        "id": "mOmn2iG0ewBz"
      },
      "outputs": [],
      "source": [
        "# Define the model and move it to cuda if available\n",
        "model = NRMS_docvec_pytorch(hparams_nrms_docvec, seed = 1)\n",
        "model = model.to(device)\n",
        "\n",
        "# Define the loss function and optimizer\n",
        "criterion = nn.CrossEntropyLoss()\n",
        "optimizer = optim.Adam(model.parameters(), hparams_nrms_docvec.learning_rate)\n",
        "\n",
        "MODEL_NAME = model.__class__.__name__"
      ]
    },
    {
      "cell_type": "markdown",
      "metadata": {
        "id": "cHN0Y01SQ1k-"
      },
      "source": [
        "# Training the Model"
      ]
    },
    {
      "cell_type": "markdown",
      "metadata": {
        "id": "OMqOXlTDRNfK"
      },
      "source": [
        "## Setting up Training Parameters and Model Performance Metrics\n"
      ]
    },
    {
      "cell_type": "code",
      "execution_count": null,
      "metadata": {
        "id": "aqb890uMRWD1"
      },
      "outputs": [],
      "source": [
        "# Initialize AUC metrics\n",
        "train_auc_metric = MulticlassAUROC(num_classes=NUM_CLASSES, average=\"macro\").to(device)\n",
        "val_auc_metric = MulticlassAUROC(num_classes=NUM_CLASSES, average=\"macro\").to(device)\n",
        "best_val_auc = float('-inf')  # For maximizing AUC\n",
        "\n",
        "# Set up parameters for early stopping\n",
        "patience_counter = 0\n",
        "\n",
        "# Store best model\n",
        "best_model_weights = None\n",
        "\n",
        "# Learning rate scheduler\n",
        "scheduler = torch.optim.lr_scheduler.ReduceLROnPlateau(optimizer, mode='max', patience=5, factor=0.2, min_lr = 1e-6, verbose=True)\n",
        "\n",
        "# Initialize lists for logging\n",
        "train_loss_intervals = []  # Training loss after each validation interval\n",
        "valid_loss_intervals = []  # Validation loss after each validation interval\n",
        "train_auc_intervals = []   # Training AUC after each validation interval\n",
        "valid_auc_intervals = []   # Validation AUC after each validation interval\n",
        "interval_counts = []       # Track intervals (for plotting x-axis)"
      ]
    },
    {
      "cell_type": "markdown",
      "metadata": {
        "id": "o7k0MIh_U2Uj"
      },
      "source": [
        "## Training loop"
      ]
    },
    {
      "cell_type": "code",
      "execution_count": null,
      "metadata": {
        "colab": {
          "base_uri": "https://localhost:8080/"
        },
        "id": "ymxep04P1Hw_",
        "outputId": "2fed71ef-cd21-4c4c-dc98-261e3087b496"
      },
      "outputs": [
        {
          "name": "stdout",
          "output_type": "stream",
          "text": [
            "Epoch 1/5\n",
            "Batch 50: Train Loss: 1.6345, Train AUC: 0.5059, Validation Loss: 1.6002, Validation AUC: 0.5441\n",
            "Batch 100: Train Loss: 1.6242, Train AUC: 0.5235, Validation Loss: 1.5983, Validation AUC: 0.5542\n",
            "Batch 150: Train Loss: 1.6177, Train AUC: 0.5353, Validation Loss: 1.5997, Validation AUC: 0.5594\n",
            "Batch 200: Train Loss: 1.6111, Train AUC: 0.5462, Validation Loss: 1.5952, Validation AUC: 0.5698\n",
            "Batch 250: Train Loss: 1.6070, Train AUC: 0.5532, Validation Loss: 1.5884, Validation AUC: 0.5771\n",
            "Batch 300: Train Loss: 1.6035, Train AUC: 0.5594, Validation Loss: 1.5929, Validation AUC: 0.5749\n",
            "Batch 350: Train Loss: 1.6010, Train AUC: 0.5643, Validation Loss: 1.5911, Validation AUC: 0.5806\n",
            "Batch 400: Train Loss: 1.5993, Train AUC: 0.5675, Validation Loss: 1.5921, Validation AUC: 0.5768\n",
            "Batch 450: Train Loss: 1.6000, Train AUC: 0.5680, Validation Loss: 1.5946, Validation AUC: 0.5774\n",
            "Batch 500: Train Loss: 1.6002, Train AUC: 0.5680, Validation Loss: 1.6039, Validation AUC: 0.5709\n",
            "Batch 600: Train Loss: 1.6020, Train AUC: 0.5671, Validation Loss: 1.6156, Validation AUC: 0.5641\n",
            "Early stopping triggered after 600 batches (within epoch).\n"
          ]
        }
      ],
      "source": [
        "model.train()  # Ensure the model is in training mode\n",
        "batch_counter = 0 # Set batch counter to 0.\n",
        "\n",
        "for epoch in range(NUM_EPOCH):\n",
        "    print(f\"Epoch {epoch + 1}/{NUM_EPOCH}\")\n",
        "    epoch_train_loss = 0 # Set training loss for each epoch to 0 at the start\n",
        "    train_auc_metric.reset() # Reset AUC computations\n",
        "\n",
        "    # Training loop\n",
        "    model.train()  # Switch to training mode\n",
        "    for batch_idx, arguments in enumerate(data_loader_train_pt): # Loop over training batches\n",
        "        targets = arguments[1].to(device)\n",
        "        his_input = arguments[0][0].to(device)\n",
        "        pred_input = arguments[0][1].to(device)\n",
        "\n",
        "        optimizer.zero_grad() # Reset gradients\n",
        "\n",
        "        predictions = model(his_input, pred_input)  # Forward pass\n",
        "\n",
        "        loss = criterion(predictions, targets.argmax(dim=1))  # Compute loss\n",
        "        epoch_train_loss += loss.detach().item() # Add loss to overall epoch loss\n",
        "\n",
        "        # Update training AUC metric\n",
        "        train_auc_metric.update(predictions, targets.argmax(dim=1))\n",
        "\n",
        "        loss.backward() # Compute the gradients of the loss function with respect to the model parameters\n",
        "        optimizer.step() # Update the model parameters using the gradients computed\n",
        "\n",
        "        batch_counter += 1 # Increment counter\n",
        "\n",
        "        \"\"\"\n",
        "        After we have trained on VAL_INTERVAL BATCHES we evaluate the model on the validation set. We do this because we saw\n",
        "        that the model overfitted when we did early stopping on the epoch level, when training on all the training data.\n",
        "        \"\"\"\n",
        "        if batch_counter % VAL_INTERVAL == 0:\n",
        "            model.eval()  # Switch to evaluation mode\n",
        "            val_loss_total = 0\n",
        "            val_auc_metric.reset()\n",
        "\n",
        "            # Compute the predictions on the validation set\n",
        "            with torch.no_grad():\n",
        "                for val_arguments in data_loader_val_pt:\n",
        "                    val_targets = val_arguments[1].to(device)\n",
        "                    val_his_input = val_arguments[0][0].to(device)\n",
        "                    val_pred_input = val_arguments[0][1].to(device)\n",
        "\n",
        "                    val_preds = model(val_his_input, val_pred_input) # Predict based on the input\n",
        "                    val_loss = criterion(val_preds, val_targets.argmax(dim=1)) # Compute the validation loss\n",
        "                    val_loss_total += val_loss.detach().item() # Add to the total loss\n",
        "\n",
        "                    # Update validation AUC metric\n",
        "                    val_auc_metric.update(val_preds, val_targets.argmax(dim=1))\n",
        "\n",
        "            # Average validation loss\n",
        "            avg_val_loss = val_loss_total / len(data_loader_val_pt)\n",
        "\n",
        "            # Calculate validation AUC\n",
        "            val_auc = val_auc_metric.compute().item()\n",
        "\n",
        "            # Log metrics\n",
        "            train_loss_intervals.append(epoch_train_loss / batch_counter)  # Avg training loss so far\n",
        "            valid_loss_intervals.append(avg_val_loss)\n",
        "            train_auc_intervals.append(train_auc_metric.compute().item())\n",
        "            valid_auc_intervals.append(val_auc)\n",
        "            interval_counts.append(batch_counter)\n",
        "\n",
        "            # Print the performance of the model on the training (trained on so far) and the validation set\n",
        "            print(f\"Batch {batch_counter}: Train Loss: {train_loss_intervals[-1]:.4f}, Train AUC: {train_auc_intervals[-1]:.4f}, Validation Loss: {avg_val_loss:.4f}, Validation AUC: {val_auc:.4f}\")\n",
        "\n",
        "            # Step the scheduler with validation AUC\n",
        "            scheduler.step(val_auc)\n",
        "\n",
        "            # Early Stopping Check (based on AUC on the validation set)\n",
        "            if val_auc > best_val_auc:\n",
        "                best_val_auc = val_auc\n",
        "                patience_counter = 0\n",
        "                best_model_weights = model.state_dict()  # Save best model weights\n",
        "            else:\n",
        "                patience_counter += 1\n",
        "\n",
        "            # If model has not improved for PATIENCE * VAL_INTERVAL batches of training, stop training and load the model that performed best on the validation set.\n",
        "            if patience_counter >= PATIENCE:\n",
        "                print(f\"Early stopping triggered after {batch_counter} batches (within epoch).\")\n",
        "                model.load_state_dict(best_model_weights)  # Restore best weights\n",
        "                break\n",
        "\n",
        "            model.train()  # Switch back to training mode\n",
        "\n",
        "    # Break the epoch loop if early stopping triggered\n",
        "    if patience_counter >= PATIENCE:\n",
        "        break\n",
        "\n",
        "# Save the best model weights (if early stopping occurred)\n",
        "if best_model_weights:\n",
        "    model.load_state_dict(best_model_weights)\n",
        "\n",
        "# Save the best encoders to use for the scoring model on the test set\n",
        "torch.save(model.news_encoder.state_dict(), \"newsencoder.pth\")\n",
        "torch.save(model.user_encoder.state_dict(), \"userencoder.pth\")"
      ]
    },
    {
      "cell_type": "markdown",
      "metadata": {
        "id": "PMCOL_yIU7fQ"
      },
      "source": [
        "# Plotting the Model Performance Under Training Procedure"
      ]
    },
    {
      "cell_type": "code",
      "execution_count": null,
      "metadata": {
        "colab": {
          "base_uri": "https://localhost:8080/",
          "height": 1000
        },
        "id": "BGwGBIMVUuBu",
        "outputId": "330646b8-1638-4056-ab2e-ec095ee94df0"
      },
      "outputs": [
        {
          "data": {
            "image/png": "[encoded data removed]",
            "text/plain": [
              "<Figure size 1200x600 with 1 Axes>"
            ]
          },
          "metadata": {},
          "output_type": "display_data"
        },
        {
          "data": {
            "image/png": "[encoded data removed]",
            "text/plain": [
              "<Figure size 1200x600 with 1 Axes>"
            ]
          },
          "metadata": {},
          "output_type": "display_data"
        }
      ],
      "source": [
        "# Plot training and validation metrics for each interval\n",
        "# Plot 1: Loss (Training and Validation)\n",
        "plt.figure(figsize=(12, 6))\n",
        "plt.plot(interval_counts, train_loss_intervals, label=\"Training Loss (Average Across Training so far)\", marker='o')\n",
        "plt.plot(interval_counts, valid_loss_intervals, label=\"Validation Loss\", marker='o')\n",
        "\n",
        "plt.xlabel(\"Batch Count (After Validation Interval)\")\n",
        "plt.ylabel(\"Cross-Entropy Loss\")\n",
        "plt.title(f\"Training and Validation Loss After Every {VAL_INTERVAL} Batches\")\n",
        "plt.legend()\n",
        "plt.grid(True)\n",
        "plt.show()\n",
        "\n",
        "# Plot 2: AUC (Training and Validation)\n",
        "plt.figure(figsize=(12, 6))\n",
        "plt.plot(interval_counts, train_auc_intervals, label=\"Training AUC (Average Across Training so far)\", marker='o')\n",
        "plt.plot(interval_counts, valid_auc_intervals, label=\"Validation AUC\", marker='o')\n",
        "\n",
        "plt.xlabel(\"Batch Count (After Validation Interval)\")\n",
        "plt.ylabel(\"AUC\")\n",
        "plt.title(f\"Training and Validation AUC After Every {VAL_INTERVAL} Batches\")\n",
        "plt.legend()\n",
        "plt.grid(True)\n",
        "plt.show()"
      ]
    },
    {
      "cell_type": "markdown",
      "metadata": {
        "id": "2UffOgMdVY9J"
      },
      "source": [
        "# We Now Let the Final Model Score on the Large Test Set\n"
      ]
    },
    {
      "cell_type": "code",
      "execution_count": null,
      "metadata": {
        "id": "qKlnvmNFeBju"
      },
      "outputs": [],
      "source": [
        "# We create an instance of a news_encoder and a user_encoder\n",
        "news_encoder = NewsEncoder(hparams_nrms_docvec).to(device)\n",
        "user_encoder = UserEncoder(news_encoder, hparams_nrms_docvec.head_num, hparams_nrms_docvec.head_dim, hparams_nrms_docvec.attention_hidden_dim, 1).to(device)\n",
        "\n",
        "# Load the best performing model from the training\n",
        "news_encoder.load_state_dict(torch.load(\"newsencoder.pth\"))\n",
        "user_encoder.load_state_dict(torch.load(\"userencoder.pth\"))"
      ]
    },
    {
      "cell_type": "code",
      "execution_count": null,
      "metadata": {
        "id": "LFZhXCSgd7b8"
      },
      "outputs": [],
      "source": [
        "scorer_model = ScorerModel(user_encoder, news_encoder) # Intialize the model"
      ]
    },
    {
      "cell_type": "markdown",
      "metadata": {
        "id": "v7WDtVYqWWQu"
      },
      "source": [
        "# Load the Test Set"
      ]
    },
    {
      "cell_type": "code",
      "execution_count": null,
      "metadata": {
        "colab": {
          "base_uri": "https://localhost:8080/"
        },
        "id": "uXjhHzHQVbv0",
        "outputId": "7469e992-6a67-4828-8c77-551ed6df1401"
      },
      "outputs": [
        {
          "name": "stdout",
          "output_type": "stream",
          "text": [
            "Initiating testset...\n"
          ]
        }
      ],
      "source": [
        "print(\"Initiating testset...\")\n",
        "df_test = (\n",
        "    ebnerd_from_path(\n",
        "        PATH.joinpath(DATASPLIT, \"test\"),\n",
        "        history_size=HISTORY_SIZE,\n",
        "        padding=0,\n",
        "    )\n",
        "    .sample(fraction=FRACTION_TEST)\n",
        "    .with_columns(\n",
        "        pl.col(DEFAULT_INVIEW_ARTICLES_COL)\n",
        "        .list.first()\n",
        "        .alias(DEFAULT_CLICKED_ARTICLES_COL)\n",
        "    )\n",
        "    .select(COLUMNS + [DEFAULT_IS_BEYOND_ACCURACY_COL])\n",
        "    .with_columns(\n",
        "        pl.col(DEFAULT_INVIEW_ARTICLES_COL)\n",
        "        .list.eval(pl.element() * 0)\n",
        "        .alias(DEFAULT_LABELS_COL)\n",
        "    )\n",
        ")"
      ]
    },
    {
      "cell_type": "markdown",
      "metadata": {
        "id": "uHM0qv29WZ1B"
      },
      "source": [
        "# Split the Test Set"
      ]
    },
    {
      "cell_type": "code",
      "execution_count": null,
      "metadata": {
        "id": "CigR-O3vWm2m"
      },
      "outputs": [],
      "source": [
        "# Split test in beyond-accuracy TRUE / FALSE. In the BA 'article_ids_inview' is 250.\n",
        "df_test_wo_beyond = df_test.filter(~pl.col(DEFAULT_IS_BEYOND_ACCURACY_COL))\n",
        "df_test_w_beyond = df_test.filter(pl.col(DEFAULT_IS_BEYOND_ACCURACY_COL))"
      ]
    },
    {
      "cell_type": "markdown",
      "metadata": {
        "id": "NL0XSSlPWepi"
      },
      "source": [
        "# Chunk the Test Set so it can Fit into Memory"
      ]
    },
    {
      "cell_type": "code",
      "execution_count": null,
      "metadata": {
        "id": "ChxYr0-PY8am"
      },
      "outputs": [],
      "source": [
        "# Evaluating the test test can be memory intensive, we'll chunk it up:\n",
        "TEST_CHUNKS_DIR = PATH.joinpath(\"test_chunks\")\n",
        "TEST_CHUNKS_DIR.mkdir(parents=True, exist_ok=True)\n",
        "\n",
        "N_CHUNKS_TEST = 10\n",
        "\n",
        "df_test_chunks = split_df_chunks(df_test_wo_beyond, n_chunks=N_CHUNKS_TEST)\n",
        "df_pred_test_wo_beyond = []"
      ]
    },
    {
      "cell_type": "markdown",
      "metadata": {
        "id": "KxwW33QrbPNd"
      },
      "source": [
        "# Run the Model on the Test Set Without Beyond-Accuracy"
      ]
    },
    {
      "cell_type": "code",
      "execution_count": null,
      "metadata": {
        "colab": {
          "base_uri": "https://localhost:8080/"
        },
        "id": "QNxasKOmW7fe",
        "outputId": "ef2f7f93-9b6b-42b9-dd49-063fc7adced3"
      },
      "outputs": [
        {
          "name": "stdout",
          "output_type": "stream",
          "text": [
            "Initiating test set processing without beyond-accuracy metrics...\n",
            "Now Processing chunk number: 1\n"
          ]
        }
      ],
      "source": [
        "# Start processing test data chunks for predictions\n",
        "CHUNKS_DONE = 0  # Tracks the number of chunks already processed\n",
        "print(\"Initiating test set processing without beyond-accuracy metrics...\")\n",
        "\n",
        "# Iterate through each test data chunk that hasn't been processed yet\n",
        "for i, df_test_chunk in enumerate(df_test_chunks[CHUNKS_DONE:], start=1 + CHUNKS_DONE):\n",
        "    print(f\"Now Processing chunk number: {i}\")\n",
        "\n",
        "    # Create the DataLoader for the current test chunk\n",
        "    test_dataset = NRMSDataLoaderPretransform(\n",
        "        behaviors=df_test_chunk,                    # Test chunk containing user behaviors\n",
        "        article_dict=article_mapping,               # Dictionary mapping article IDs to embeddings\n",
        "        unknown_representation=\"zeros\",             # Unknown articles are represented as zero vectors\n",
        "        history_column=DEFAULT_HISTORY_ARTICLE_ID_COL,  # Column containing user history\n",
        "        eval=True                                   # Set to evaluation mode\n",
        "    )\n",
        "    test_dataloader_wo_b = DataLoader(\n",
        "        test_dataset,                               # The preprocessed test dataset\n",
        "        batch_size=TEST_BATCH_SIZE,                # Batch size for test predictions\n",
        "        shuffle=False,                              # No shuffling required for evaluation\n",
        "        collate_fn=nrms_custom_collate_fn          # Custom collate function for batching\n",
        "    )\n",
        "\n",
        "    # Set the model to evaluation mode to disable training-specific layers like Dropout\n",
        "    model.eval()\n",
        "    predictions_test = []  # List to store predictions for this chunk\n",
        "\n",
        "    # Compute predictions without gradient calculations for efficiency\n",
        "    with torch.no_grad():\n",
        "        for arguments in test_dataloader_wo_b:\n",
        "            targets = arguments[1].to(device)       # Targets (e.g., labels) moved to the device\n",
        "            his_input = arguments[0][0].to(device) # Historical input for the user\n",
        "            pred_input = arguments[0][1].to(device) # Candidate news articles for scoring\n",
        "            predictions = scorer_model(his_input, pred_input)  # Generate predictions\n",
        "            predictions_test.extend(predictions.tolist())      # Collect predictions as a Python list\n",
        "\n",
        "    # Add prediction scores to the DataFrame and rank them\n",
        "    df_test_chunk = add_prediction_scores(df_test_chunk, predictions_test).with_columns(\n",
        "        pl.col(\"scores\")\n",
        "        .map_elements(lambda x: list(rank_predictions_by_score(x)))  # Rank predictions by score\n",
        "        .alias(\"ranked_scores\")                                     # Create a new column for ranked scores\n",
        "    )\n",
        "\n",
        "    # Save the processed chunk to a Parquet file\n",
        "    df_test_chunk.select(DEFAULT_IMPRESSION_ID_COL, \"ranked_scores\").write_parquet(\n",
        "        TEST_CHUNKS_DIR.joinpath(f\"pred_wo_ba_{i}.parquet\")\n",
        "    )\n",
        "\n",
        "    # Append the processed DataFrame chunk to the list\n",
        "    df_pred_test_wo_beyond.append(df_test_chunk)\n",
        "\n",
        "    # Clean up memory by deleting unused variables and triggering garbage collection\n",
        "    del df_test_chunk, test_dataloader_wo_b, predictions_test, test_dataset\n",
        "    gc.collect()\n",
        "\n",
        "# Concatenate all processed chunks into a single DataFrame\n",
        "df_pred_test_wo_beyond = pl.concat(df_pred_test_wo_beyond)\n",
        "\n",
        "# Save the concatenated predictions DataFrame to a final Parquet file\n",
        "df_pred_test_wo_beyond.select(DEFAULT_IMPRESSION_ID_COL, \"ranked_scores\").write_parquet(\n",
        "    TEST_CHUNKS_DIR.joinpath(\"pred_wo_ba.parquet\")\n",
        ")"
      ]
    },
    {
      "cell_type": "markdown",
      "metadata": {
        "id": "8DgOeAXubatE"
      },
      "source": [
        "# Initiating Test Set With Beyond-Accuracy"
      ]
    },
    {
      "cell_type": "code",
      "execution_count": null,
      "metadata": {
        "id": "Jl44pxVgbfIX"
      },
      "outputs": [],
      "source": [
        "# Initialize the NRMSDataLoaderPretransform dataset for evaluation with pre-transformed data\n",
        "dataset_w_b = NRMSDataLoaderPretransform(\n",
        "    behaviors=df_test_w_beyond,  # Input test data with behaviors\n",
        "    article_dict=article_mapping,  # Article mapping for the dataset\n",
        "    unknown_representation=\"zeros\",  # Default representation for unknown articles\n",
        "    history_column=DEFAULT_HISTORY_ARTICLE_ID_COL,  # Column containing the history of article IDs\n",
        "    eval=True,  # Flag to indicate evaluation mode (typically disables certain operations like dropout)\n",
        ")\n",
        "\n",
        "# Create a DataLoader to load data in batches, without shuffling the test data\n",
        "test_dataloader_w_b = DataLoader(\n",
        "    dataset_w_b,  # The dataset to load from\n",
        "    batch_size=TEST_BATCH_SIZE,  # Batch size for testing\n",
        "    shuffle=False,  # Shuffling is not needed during evaluation\n",
        "    collate_fn=nrms_custom_collate_fn  # Custom function to process each batch\n",
        ")\n",
        "\n",
        "# List to hold all the predictions from the test set\n",
        "predictions_test_wb = []\n",
        "\n",
        "# Disable gradient computation to speed up inference and save memory\n",
        "with torch.no_grad():\n",
        "    # Iterate through the test data batches\n",
        "    for arguments in test_dataloader_w_b:\n",
        "        # Extract the targets (labels) and move them to the appropriate device (e.g., GPU)\n",
        "        targets = arguments[1].to(device)\n",
        "\n",
        "        # Extract the historical input and prediction input, and move them to the device\n",
        "        his_input = arguments[0][0].to(device)\n",
        "        pred_input = arguments[0][1].to(device)\n",
        "\n",
        "        # Get predictions from the scorer model using historical and prediction input\n",
        "        predictions = scorer_model(his_input, pred_input)\n",
        "\n",
        "        # Append the predictions to the list\n",
        "        predictions_test_wb.extend(predictions.tolist())\n",
        "\n",
        "# Add the predictions as new scores to the test dataframe\n",
        "df_pred_test_w_beyond = add_prediction_scores(df_test_w_beyond, predictions_test_wb).with_columns(\n",
        "    pl.col(\"scores\")  # Select the scores column\n",
        "    .map_elements(lambda x: list(rank_predictions_by_score(x)))  # Rank predictions by score\n",
        "    .alias(\"ranked_scores\")  # Alias the ranked scores as \"ranked_scores\"\n",
        ")\n",
        "\n",
        "# Select relevant columns and save the results to a Parquet file\n",
        "df_pred_test_w_beyond.select(DEFAULT_IMPRESSION_ID_COL, \"ranked_scores\").write_parquet(\n",
        "    TEST_CHUNKS_DIR.joinpath(\"pred_w_ba.parquet\")  # Save the ranked predictions to a Parquet file\n",
        ")"
      ]
    },
    {
      "cell_type": "markdown",
      "metadata": {
        "id": "xyZdiHR5Yd4j"
      },
      "source": [
        "# Read Test Predictions into Memory"
      ]
    },
    {
      "cell_type": "code",
      "execution_count": null,
      "metadata": {
        "id": "vrfaf4_OJmOd"
      },
      "outputs": [],
      "source": [
        "wo_beyond = PATH.joinpath(\"test_chunks/pred_wo_ba.parquet\")\n",
        "w_beyond = PATH.joinpath(\"test_chunks/pred_w_ba.parquet\")\n",
        "df_pred_test_wo_beyond = pl.read_parquet(wo_beyond)\n",
        "df_pred_test_w_beyond = pl.read_parquet(w_beyond)"
      ]
    },
    {
      "cell_type": "markdown",
      "metadata": {
        "id": "AJ9Y-iuSYjdN"
      },
      "source": [
        "# Create Submission File"
      ]
    },
    {
      "cell_type": "code",
      "execution_count": null,
      "metadata": {
        "id": "FSePZiQdb8vK"
      },
      "outputs": [],
      "source": [
        "print(\"Saving prediction results...\")\n",
        "df_test = pl.concat([df_pred_test_wo_beyond, df_pred_test_w_beyond])\n",
        "df_test.select(DEFAULT_IMPRESSION_ID_COL, \"ranked_scores\").write_parquet(\n",
        "    PATH.joinpath(\"test_predictions.parquet\")\n",
        ")\n",
        "\"\"\"\n",
        "if TEST_CHUNKS_DIR.exists() and TEST_CHUNKS_DIR.is_dir():\n",
        "    shutil.rmtree(TEST_CHUNKS_DIR)\n",
        "\"\"\"\n",
        "write_submission_file(\n",
        "    impression_ids=df_test[DEFAULT_IMPRESSION_ID_COL],\n",
        "    prediction_scores=df_test[\"ranked_scores\"],\n",
        "    path=PATH.joinpath(\"predictions.txt\"),\n",
        "    filename_zip=f\"{MODEL_NAME}-{SEED}-{DATASPLIT}.zip\",\n",
        ")"
      ]
    }
  ],
  "metadata": {
    "accelerator": "GPU",
    "colab": {
      "gpuType": "T4",
      "machine_shape": "hm",
      "provenance": []
    },
    "kernelspec": {
      "display_name": "Python 3",
      "name": "python3"
    },
    "language_info": {
      "name": "python"
    }
  },
  "nbformat": 4,
  "nbformat_minor": 0
}
